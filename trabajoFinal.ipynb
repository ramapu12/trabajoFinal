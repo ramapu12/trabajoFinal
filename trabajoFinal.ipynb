{
  "cells": [
    {
      "cell_type": "markdown",
      "metadata": {
        "id": "view-in-github",
        "colab_type": "text"
      },
      "source": [
        "<a href=\"https://colab.research.google.com/github/ramapu12/trabajoFinal/blob/main/trabajoFinal.ipynb\" target=\"_parent\"><img src=\"https://colab.research.google.com/assets/colab-badge.svg\" alt=\"Open In Colab\"/></a>"
      ]
    },
    {
      "cell_type": "code",
      "execution_count": 5,
      "metadata": {
        "colab": {
          "base_uri": "https://localhost:8080/"
        },
        "id": "5NldrKHSUb2k",
        "outputId": "7d03ead6-46e0-44d2-d903-2c4bc9752d51"
      },
      "outputs": [
        {
          "output_type": "stream",
          "name": "stdout",
          "text": [
            "          Country  Year  Life expectancy \n",
            "2513       Sweden  2007              89.0\n",
            "2433        Spain  2007              89.0\n",
            "938        France  2007              89.0\n",
            "915       Finland  2014              89.0\n",
            "1916       Norway  2009              89.0\n",
            "1293        Italy  2004              89.0\n",
            "995       Germany  2014              89.0\n",
            "937        France  2008              89.0\n",
            "241       Belgium  2014              89.0\n",
            "1850  New Zealand  2010              89.0\n"
          ]
        }
      ],
      "source": [
        "import pandas as pd\n",
        "\n",
        "# Cargar los datos\n",
        "url = 'https://raw.githubusercontent.com/ramapu12/trabajoFinal/59399a459ba091dfd304faa2e1bdd509b56d5477/Life%20Expectancy%20Data.csv'\n",
        "df = pd.read_csv(url)\n",
        "\n",
        "\n",
        "\n",
        "# Agrupar por país y calcular la media de esperanza de vida\n",
        "mean_life_by_country = df.groupby('Country')['Life expectancy '].mean()\n",
        "\n",
        "# Ordenar de mayor a menor\n",
        "top_countries = mean_life_by_country.sort_values(ascending=False)\n",
        "\n",
        "# Mostrar los 10 países con mayor esperanza de vida media\n",
        "df_sorted = df.sort_values(by='Life expectancy ', ascending=False)\n",
        "\n",
        "# Mostrar los primeros 10 registros\n",
        "print(df_sorted[['Country', 'Year', 'Life expectancy ']].head(10))"
      ]
    }
  ],
  "metadata": {
    "colab": {
      "provenance": [],
      "authorship_tag": "ABX9TyO2rrmR9lnehBF0LAgp6HPw",
      "include_colab_link": true
    },
    "kernelspec": {
      "display_name": "Python 3",
      "name": "python3"
    },
    "language_info": {
      "name": "python"
    }
  },
  "nbformat": 4,
  "nbformat_minor": 0
}